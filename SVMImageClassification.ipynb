{
 "cells": [
  {
   "cell_type": "code",
   "execution_count": 13,
   "metadata": {},
   "outputs": [],
   "source": [
    "import numpy as np \n",
    "import pandas as pd \n",
    "import matplotlib.pyplot as plt\n",
    "from sklearn import datasets, svm, metrics\n",
    "from sklearn.model_selection import train_test_split\n",
    "from sklearn.metrics import confusion_matrix, classification_report\n",
    "import seaborn as sb\n",
    "import os\n",
    "import cv2\n",
    "from random import shuffle\n"
   ]
  },
  {
   "cell_type": "code",
   "execution_count": 27,
   "metadata": {},
   "outputs": [],
   "source": [
    "categories = [\"dogs\", \"cats\"]\n",
    "def load_images_from_folder(folder):\n",
    "    data = []\n",
    "    for category in categories: \n",
    "        path = os.path.join(folder, category)\n",
    "        class_num = categories.index(category)\n",
    "        for img in os.listdir(path):\n",
    "            img_array = cv2.imread(os.path.join(path,img) , 0)\n",
    "            img_array = cv2.resize(img_array, (100, 100)).flatten() \n",
    "            data.append([img_array, class_num])\n",
    "    return data\n",
    "\n",
    "images = load_images_from_folder(\"data/training_set\") \n",
    "test = load_images_from_folder(\"data/test_set\")"
   ]
  },
  {
   "cell_type": "code",
   "execution_count": 28,
   "metadata": {},
   "outputs": [],
   "source": [
    "shuffle(images)\n",
    "shuffle(test)\n",
    "\n",
    "X_Train = []\n",
    "Y_Train = []\n",
    "X_Test = []\n",
    "Y_Test = []\n",
    "\n",
    "for features, label in images:\n",
    "    X_Train.append(features)\n",
    "    Y_Train.append(label)\n",
    "    \n",
    "for features, label in test:\n",
    "    X_Test.append(features)\n",
    "    Y_Test.append(label)\n"
   ]
  },
  {
   "cell_type": "code",
   "execution_count": 31,
   "metadata": {},
   "outputs": [
    {
     "name": "stdout",
     "output_type": "stream",
     "text": [
      "Training Data : 8000\n",
      "Testing Data : 2000\n"
     ]
    }
   ],
   "source": [
    "print(\"Training Data : \" + str(len(images)))\n",
    "print(\"Testing Data : \" + str(len(test)))"
   ]
  },
  {
   "cell_type": "code",
   "execution_count": 30,
   "metadata": {},
   "outputs": [],
   "source": [
    "#X_Train = np.array(X_Train).reshape(len(X_Train), -1)\n",
    "\n",
    "classifier = svm.SVC(gamma=0.001).fit(X_Train, Y_Train)"
   ]
  },
  {
   "cell_type": "code",
   "execution_count": null,
   "metadata": {},
   "outputs": [
    {
     "name": "stdout",
     "output_type": "stream",
     "text": [
      "acc: (1.0, linear): 53.20%\n",
      "acc: (1.0, poly): 60.95%\n",
      "acc: (1.0, rbf): 65.30%\n",
      "acc: (1.0, sigmoid): 48.00%\n",
      "acc: (3.0, linear): 53.20%\n",
      "acc: (3.0, poly): 60.65%\n",
      "acc: (3.0, rbf): 65.10%\n",
      "acc: (3.0, sigmoid): 48.00%\n",
      "acc: (5.0, linear): 53.20%\n"
     ]
    }
   ],
   "source": [
    "cs = [1.0, 3.0, 5.0, 7.0, 9.0]\n",
    "kernels = [\"linear\", \"poly\", \"rbf\", \"sigmoid\"]\n",
    "best = [0, 0]\n",
    "bestKernel = \"\"\n",
    "for c in cs:\n",
    "    for kernel in kernels:\n",
    "        svc = svm.SVC(C = c, kernel = kernel, gamma = \"scale\")\n",
    "        svc.fit(X_Train, Y_Train)\n",
    "        accuracy = svc.score(X_Test, Y_Test)\n",
    "        if(accuracy > best[0]):\n",
    "            best[0] = accuracy\n",
    "            best[1] = c\n",
    "            bestKernel = kernel\n",
    "        print(\"acc: ({}, {}): {:.2f}%\".format(c, kernel, accuracy * 100))"
   ]
  },
  {
   "cell_type": "code",
   "execution_count": null,
   "metadata": {},
   "outputs": [],
   "source": [
    "classifier = svm.SVC(C = best[1], kernel = kernel, gamma=0.001).fit(X_Train, Y_Train)\n",
    "\n",
    "#X_Test = np.array(X_Test).reshape(len(X_Test),  -1)\n",
    "Y_Pred = classifier.predict(X_Test)"
   ]
  },
  {
   "cell_type": "code",
   "execution_count": null,
   "metadata": {},
   "outputs": [],
   "source": [
    "print(classifier, classification_report(Y_Test, Y_Pred))\n",
    "cf_matrix = confusion_matrix(Y_Test, Y_Pred)\n",
    "print(cf_matrix)\n",
    "sb.heatmap(cf_matrix, cmap = \"Blues\", annot = True)\n",
    "\n",
    "#task: instead of using raw pixels as the features, you can explores other features descriptor e.g. HoG as the features"
   ]
  }
 ],
 "metadata": {
  "kernelspec": {
   "display_name": "Python 3",
   "language": "python",
   "name": "python3"
  },
  "language_info": {
   "codemirror_mode": {
    "name": "ipython",
    "version": 3
   },
   "file_extension": ".py",
   "mimetype": "text/x-python",
   "name": "python",
   "nbconvert_exporter": "python",
   "pygments_lexer": "ipython3",
   "version": "3.8.3"
  }
 },
 "nbformat": 4,
 "nbformat_minor": 4
}
